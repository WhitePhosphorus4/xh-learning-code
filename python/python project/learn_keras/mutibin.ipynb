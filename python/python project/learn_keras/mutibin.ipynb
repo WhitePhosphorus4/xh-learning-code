{
 "cells": [
  {
   "cell_type": "markdown",
   "metadata": {},
   "source": [
    "### 基于多层感知器的二分类\n",
    "　　输入数据：定义输入一个二维数组（x1,x2），数据通过numpy来随机产生，将输出定义为0或者1，如果x1+x2<1，则y为1，否则y为0.\n",
    "\n",
    "　　隐藏层：定义两层隐藏层，隐藏层的参数为（2,3），两行三列的矩阵，输入数据通过隐藏层之后，输出的数据为（1,3），t通过矩阵之间的乘法运算可以获得输出数据。\n",
    "\n",
    "　　损失函数：使用交叉熵作为神经网络的损失函数，常用的损失函数还有平方差。\n",
    "\n",
    "　　优化函数：通过油画函数来使得损失函数最小化，这里采用的是Adadelta算法进行优化，常用的有梯度下降算法。\n",
    "\n",
    "　　输出数据：将隐藏层的输出数据通过（3,1）的参数，输出一个一维向量，值的大小为0或者1."
   ]
  },
  {
   "cell_type": "code",
   "execution_count": 1,
   "metadata": {},
   "outputs": [],
   "source": [
    "import numpy as np\n",
    "from keras.models import Sequential\n",
    "from keras.layers import  Dense,Dropout"
   ]
  },
  {
   "cell_type": "code",
   "execution_count": 2,
   "metadata": {},
   "outputs": [],
   "source": [
    "# 生成数据，训练数据和测试数据\n",
    "# x_train/x_test 生成随机的浮点数，x_train为1000行20列 x_test为100行20列\n",
    "# 列数一定要一一对应，相当于特征个数要对应\n",
    "# 此处的二元分类，可以不需要one_hot编译，np.random.randint可以直接生成0 1 编码\n",
    "x_train = np.random.random((1000,20))\n",
    "y_train = np.random.randint(2,size=(1000,1))\n",
    "# print(x_train)\n",
    "# print(y_train)\n",
    "x_test = np.random.random((100,20))\n",
    "y_test = np.random.randint(2,size=(100,1))"
   ]
  },
  {
   "cell_type": "code",
   "execution_count": 3,
   "metadata": {},
   "outputs": [
    {
     "data": {
      "text/plain": [
       "array([[0.73424819, 0.99235072, 0.6436409 , ..., 0.0422645 , 0.6933375 ,\n",
       "        0.73465891],\n",
       "       [0.20173731, 0.14084946, 0.82244952, ..., 0.4765789 , 0.78991731,\n",
       "        0.03301083],\n",
       "       [0.6092834 , 0.97167876, 0.13799768, ..., 0.9537528 , 0.75901175,\n",
       "        0.16852823],\n",
       "       ...,\n",
       "       [0.41441138, 0.48671162, 0.15266404, ..., 0.67595824, 0.6720704 ,\n",
       "        0.2720208 ],\n",
       "       [0.04367007, 0.4162546 , 0.51044774, ..., 0.45095722, 0.74832266,\n",
       "        0.83937693],\n",
       "       [0.92180287, 0.9903498 , 0.57052817, ..., 0.44838285, 0.77435381,\n",
       "        0.55647376]])"
      ]
     },
     "metadata": {},
     "output_type": "display_data"
    },
    {
     "data": {
      "text/plain": [
       "array([[0.59308195, 0.73380708, 0.29684644, ..., 0.30311891, 0.62713077,\n",
       "        0.41425217],\n",
       "       [0.07328862, 0.84901779, 0.04016636, ..., 0.85666465, 0.69325895,\n",
       "        0.44697459],\n",
       "       [0.61444388, 0.02699549, 0.53393577, ..., 0.49509064, 0.88882925,\n",
       "        0.8538886 ],\n",
       "       ...,\n",
       "       [0.34359561, 0.43213166, 0.60457486, ..., 0.01579678, 0.81805358,\n",
       "        0.7991987 ],\n",
       "       [0.34825367, 0.96876297, 0.15949036, ..., 0.32336406, 0.96858816,\n",
       "        0.60660511],\n",
       "       [0.3598996 , 0.45721276, 0.52372491, ..., 0.82700658, 0.39888666,\n",
       "        0.38729629]])"
      ]
     },
     "metadata": {},
     "output_type": "display_data"
    }
   ],
   "source": [
    "display(x_train,x_test)"
   ]
  },
  {
   "cell_type": "code",
   "execution_count": 4,
   "metadata": {},
   "outputs": [],
   "source": [
    "# 设计模型，通过add的方式叠起来\n",
    "# 注意输入时，初始网络一定要给定输入的特征维度input_dim 或者input_shape数据类型\n",
    "# activition激活函数既可以在Dense网络设置里，也可以单独添加\n",
    "model = Sequential()\n",
    "model.add(Dense(64,input_dim=20,activation='relu'))\n",
    "# Drop防止过拟合的数据处理方式\n",
    "model.add(Dropout(0.5))\n",
    "model.add(Dense(64,activation='relu'))\n",
    "model.add(Dropout(0.5))\n",
    "model.add(Dense(1,activation='sigmoid'))"
   ]
  },
  {
   "cell_type": "code",
   "execution_count": 5,
   "metadata": {},
   "outputs": [],
   "source": [
    "# 编译模型，定义损失函数，优化函数，绩效评估函数\n",
    "model.compile(loss='binary_crossentropy',\n",
    "              optimizer='rmsprop',\n",
    "              metrics=['accuracy'])"
   ]
  },
  {
   "cell_type": "code",
   "execution_count": 8,
   "metadata": {},
   "outputs": [
    {
     "name": "stdout",
     "output_type": "stream",
     "text": [
      "Epoch 1/30\n",
      "8/8 [==============================] - 0s 5ms/step - loss: 0.6888 - accuracy: 0.5430\n",
      "Epoch 2/30\n",
      "8/8 [==============================] - 0s 5ms/step - loss: 0.6854 - accuracy: 0.5500\n",
      "Epoch 3/30\n",
      "8/8 [==============================] - 0s 5ms/step - loss: 0.6870 - accuracy: 0.5480\n",
      "Epoch 4/30\n",
      "8/8 [==============================] - 0s 4ms/step - loss: 0.6913 - accuracy: 0.5180\n",
      "Epoch 5/30\n",
      "8/8 [==============================] - 0s 4ms/step - loss: 0.6893 - accuracy: 0.5270\n",
      "Epoch 6/30\n",
      "8/8 [==============================] - 0s 5ms/step - loss: 0.6903 - accuracy: 0.5260\n",
      "Epoch 7/30\n",
      "8/8 [==============================] - 0s 4ms/step - loss: 0.6896 - accuracy: 0.5370\n",
      "Epoch 8/30\n",
      "8/8 [==============================] - 0s 4ms/step - loss: 0.6865 - accuracy: 0.5540\n",
      "Epoch 9/30\n",
      "8/8 [==============================] - 0s 4ms/step - loss: 0.6850 - accuracy: 0.5480\n",
      "Epoch 10/30\n",
      "8/8 [==============================] - 0s 4ms/step - loss: 0.6839 - accuracy: 0.5630\n",
      "Epoch 11/30\n",
      "8/8 [==============================] - 0s 4ms/step - loss: 0.6915 - accuracy: 0.5310\n",
      "Epoch 12/30\n",
      "8/8 [==============================] - 0s 5ms/step - loss: 0.6889 - accuracy: 0.5360\n",
      "Epoch 13/30\n",
      "8/8 [==============================] - 0s 5ms/step - loss: 0.6837 - accuracy: 0.5580\n",
      "Epoch 14/30\n",
      "8/8 [==============================] - 0s 5ms/step - loss: 0.6854 - accuracy: 0.5620\n",
      "Epoch 15/30\n",
      "8/8 [==============================] - 0s 4ms/step - loss: 0.6822 - accuracy: 0.5680\n",
      "Epoch 16/30\n",
      "8/8 [==============================] - 0s 8ms/step - loss: 0.6854 - accuracy: 0.5530\n",
      "Epoch 17/30\n",
      "8/8 [==============================] - 0s 5ms/step - loss: 0.6820 - accuracy: 0.5660\n",
      "Epoch 18/30\n",
      "8/8 [==============================] - 0s 5ms/step - loss: 0.6828 - accuracy: 0.5560\n",
      "Epoch 19/30\n",
      "8/8 [==============================] - 0s 5ms/step - loss: 0.6794 - accuracy: 0.5560\n",
      "Epoch 20/30\n",
      "8/8 [==============================] - 0s 4ms/step - loss: 0.6820 - accuracy: 0.5430\n",
      "Epoch 21/30\n",
      "8/8 [==============================] - 0s 5ms/step - loss: 0.6823 - accuracy: 0.5590\n",
      "Epoch 22/30\n",
      "8/8 [==============================] - 0s 5ms/step - loss: 0.6802 - accuracy: 0.5630\n",
      "Epoch 23/30\n",
      "8/8 [==============================] - 0s 5ms/step - loss: 0.6861 - accuracy: 0.5620\n",
      "Epoch 24/30\n",
      "8/8 [==============================] - 0s 4ms/step - loss: 0.6806 - accuracy: 0.5470\n",
      "Epoch 25/30\n",
      "8/8 [==============================] - 0s 6ms/step - loss: 0.6767 - accuracy: 0.5710\n",
      "Epoch 26/30\n",
      "8/8 [==============================] - 0s 5ms/step - loss: 0.6765 - accuracy: 0.5580\n",
      "Epoch 27/30\n",
      "8/8 [==============================] - 0s 5ms/step - loss: 0.6828 - accuracy: 0.5500\n",
      "Epoch 28/30\n",
      "8/8 [==============================] - 0s 5ms/step - loss: 0.6789 - accuracy: 0.5660\n",
      "Epoch 29/30\n",
      "8/8 [==============================] - 0s 4ms/step - loss: 0.6758 - accuracy: 0.5780\n",
      "Epoch 30/30\n",
      "8/8 [==============================] - 0s 5ms/step - loss: 0.6784 - accuracy: 0.5500\n"
     ]
    },
    {
     "data": {
      "text/plain": [
       "<tensorflow.python.keras.callbacks.History at 0x28baf09aa08>"
      ]
     },
     "execution_count": 8,
     "metadata": {},
     "output_type": "execute_result"
    }
   ],
   "source": [
    "# 导入数据进行训练\n",
    "model.fit(x_train,y_train,epochs=30,batch_size=128)"
   ]
  },
  {
   "cell_type": "code",
   "execution_count": 7,
   "metadata": {},
   "outputs": [
    {
     "name": "stdout",
     "output_type": "stream",
     "text": [
      "1/1 [==============================] - 0s 91ms/step - loss: 0.6888 - accuracy: 0.6100\n",
      "[0.6888269782066345, 0.6100000143051147]\n"
     ]
    }
   ],
   "source": [
    "score  = model.evaluate(x_test,y_test,batch_size=128)\n",
    "print(score)"
   ]
  },
  {
   "cell_type": "code",
   "execution_count": null,
   "metadata": {},
   "outputs": [],
   "source": []
  }
 ],
 "metadata": {
  "kernelspec": {
   "display_name": "Python [conda env:testkeras]",
   "language": "python",
   "name": "conda-env-testkeras-py"
  },
  "language_info": {
   "codemirror_mode": {
    "name": "ipython",
    "version": 3
   },
   "file_extension": ".py",
   "mimetype": "text/x-python",
   "name": "python",
   "nbconvert_exporter": "python",
   "pygments_lexer": "ipython3",
   "version": "3.7.10"
  }
 },
 "nbformat": 4,
 "nbformat_minor": 4
}
