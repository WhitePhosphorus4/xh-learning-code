{
 "cells": [
  {
   "cell_type": "code",
   "execution_count": 1,
   "metadata": {},
   "outputs": [],
   "source": [
    "import keras\n",
    "from keras.models import Sequential\n",
    "from  keras.layers import Dense,Dropout,Activation\n",
    "from keras.optimizers import SGD"
   ]
  },
  {
   "cell_type": "code",
   "execution_count": 2,
   "metadata": {},
   "outputs": [],
   "source": [
    "import numpy as np\n",
    "x_train = np.random.random((1000,20))\n",
    "y_train = keras.utils.to_categorical(np.random.randint(10,size=(1000,1)),num_classes=10)\n",
    "x_test = np.random.random((100,20))\n",
    "y_test = keras.utils.to_categorical(np.random.randint(10,size=(100,1)),num_classes=10)"
   ]
  },
  {
   "cell_type": "code",
   "execution_count": 3,
   "metadata": {},
   "outputs": [
    {
     "data": {
      "text/plain": [
       "array([[2.97057120e-01, 8.51556967e-01, 6.26376747e-04, ...,\n",
       "        9.68151821e-01, 1.97562421e-01, 6.63764605e-01],\n",
       "       [9.92845138e-02, 5.06439960e-01, 4.23470607e-01, ...,\n",
       "        1.69117700e-01, 8.98040930e-01, 9.60349273e-01],\n",
       "       [4.18462483e-01, 6.71735665e-01, 4.77427410e-01, ...,\n",
       "        1.97904406e-01, 4.57405491e-01, 7.09783881e-01],\n",
       "       ...,\n",
       "       [1.59402556e-01, 8.40543860e-01, 1.43367044e-01, ...,\n",
       "        7.57267284e-01, 5.43429793e-01, 1.36947733e-01],\n",
       "       [9.91895711e-01, 1.29764349e-01, 8.46229189e-01, ...,\n",
       "        7.49027665e-01, 2.16744638e-04, 3.85098407e-01],\n",
       "       [4.18548045e-01, 8.09967462e-01, 3.68256321e-01, ...,\n",
       "        3.98398563e-01, 1.99216373e-01, 6.45417229e-01]])"
      ]
     },
     "metadata": {},
     "output_type": "display_data"
    }
   ],
   "source": [
    "display(x_test)"
   ]
  },
  {
   "cell_type": "code",
   "execution_count": 4,
   "metadata": {},
   "outputs": [],
   "source": [
    "model = Sequential()\n",
    "\n",
    "model.add(Dense(64,activation='relu',input_dim=20))\n",
    "model.add(Dropout(0.5))\n",
    "model.add(Dense(64,activation='relu'))\n",
    "model.add(Dropout(0.5))\n",
    "model.add(Dense(10,activation='softmax'))\n",
    "\n",
    "sgd = SGD(lr=0.01,decay=1e-6,momentum=0.9,nesterov=True)\n",
    "model.compile(loss='categorical_crossentropy',\n",
    "             optimizer=sgd,\n",
    "             metrics=['accuracy'])"
   ]
  },
  {
   "cell_type": "code",
   "execution_count": 9,
   "metadata": {},
   "outputs": [
    {
     "name": "stdout",
     "output_type": "stream",
     "text": [
      "Epoch 1/20\n",
      "8/8 [==============================] - 0s 3ms/step - loss: 2.2690 - accuracy: 0.1440\n",
      "Epoch 2/20\n",
      "8/8 [==============================] - 0s 4ms/step - loss: 2.2703 - accuracy: 0.1340\n",
      "Epoch 3/20\n",
      "8/8 [==============================] - 0s 4ms/step - loss: 2.2693 - accuracy: 0.1450\n",
      "Epoch 4/20\n",
      "8/8 [==============================] - 0s 3ms/step - loss: 2.2673 - accuracy: 0.1380\n",
      "Epoch 5/20\n",
      "8/8 [==============================] - 0s 3ms/step - loss: 2.2752 - accuracy: 0.1500\n",
      "Epoch 6/20\n",
      "8/8 [==============================] - 0s 3ms/step - loss: 2.2718 - accuracy: 0.1460\n",
      "Epoch 7/20\n",
      "8/8 [==============================] - 0s 3ms/step - loss: 2.2717 - accuracy: 0.1440\n",
      "Epoch 8/20\n",
      "8/8 [==============================] - 0s 3ms/step - loss: 2.2685 - accuracy: 0.1490\n",
      "Epoch 9/20\n",
      "8/8 [==============================] - 0s 3ms/step - loss: 2.2777 - accuracy: 0.1430\n",
      "Epoch 10/20\n",
      "8/8 [==============================] - 0s 3ms/step - loss: 2.2753 - accuracy: 0.1440\n",
      "Epoch 11/20\n",
      "8/8 [==============================] - 0s 3ms/step - loss: 2.2772 - accuracy: 0.1260\n",
      "Epoch 12/20\n",
      "8/8 [==============================] - 0s 3ms/step - loss: 2.2713 - accuracy: 0.1610\n",
      "Epoch 13/20\n",
      "8/8 [==============================] - 0s 3ms/step - loss: 2.2762 - accuracy: 0.1590\n",
      "Epoch 14/20\n",
      "8/8 [==============================] - 0s 4ms/step - loss: 2.2691 - accuracy: 0.1400\n",
      "Epoch 15/20\n",
      "8/8 [==============================] - 0s 4ms/step - loss: 2.2756 - accuracy: 0.1380\n",
      "Epoch 16/20\n",
      "8/8 [==============================] - 0s 3ms/step - loss: 2.2751 - accuracy: 0.1720\n",
      "Epoch 17/20\n",
      "8/8 [==============================] - 0s 3ms/step - loss: 2.2628 - accuracy: 0.1610\n",
      "Epoch 18/20\n",
      "8/8 [==============================] - 0s 3ms/step - loss: 2.2678 - accuracy: 0.1470\n",
      "Epoch 19/20\n",
      "8/8 [==============================] - 0s 4ms/step - loss: 2.2654 - accuracy: 0.1580\n",
      "Epoch 20/20\n",
      "8/8 [==============================] - 0s 3ms/step - loss: 2.2674 - accuracy: 0.1630\n",
      "1/1 [==============================] - 0s 15ms/step - loss: 2.3170 - accuracy: 0.1300\n"
     ]
    }
   ],
   "source": [
    "model.fit(x_train,y_train,\n",
    "         epochs=20,\n",
    "         batch_size=128)\n",
    "score = model.evaluate(x_test,y_test,batch_size=128)"
   ]
  },
  {
   "cell_type": "code",
   "execution_count": null,
   "metadata": {},
   "outputs": [],
   "source": []
  }
 ],
 "metadata": {
  "kernelspec": {
   "display_name": "Python [conda env:testkeras]",
   "language": "python",
   "name": "conda-env-testkeras-py"
  },
  "language_info": {
   "codemirror_mode": {
    "name": "ipython",
    "version": 3
   },
   "file_extension": ".py",
   "mimetype": "text/x-python",
   "name": "python",
   "nbconvert_exporter": "python",
   "pygments_lexer": "ipython3",
   "version": "3.7.10"
  }
 },
 "nbformat": 4,
 "nbformat_minor": 4
}
