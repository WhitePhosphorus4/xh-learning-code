{
 "cells": [
  {
   "cell_type": "code",
   "execution_count": 1,
   "metadata": {},
   "outputs": [],
   "source": [
    "import numpy as np\n",
    "import tensorflow as tf\n",
    "import keras\n",
    "from keras.models import Sequential\n",
    "from keras.layers import Dense, Dropout\n",
    "from keras.layers import Embedding\n",
    "from keras.layers import LSTM"
   ]
  },
  {
   "cell_type": "code",
   "execution_count": 2,
   "metadata": {},
   "outputs": [
    {
     "output_type": "stream",
     "name": "stdout",
     "text": [
      "[PhysicalDevice(name='/physical_device:GPU:0', device_type='GPU')]\n"
     ]
    }
   ],
   "source": [
    "# 设置gpu内存自增长\n",
    "gpus = tf.config.experimental.list_physical_devices('GPU')\n",
    "print(gpus)\n",
    "for gpu in gpus:\n",
    "    tf.config.experimental.set_memory_growth(gpu, True)\n"
   ]
  },
  {
   "cell_type": "code",
   "execution_count": 3,
   "metadata": {},
   "outputs": [],
   "source": [
    "data_dim = 16\n",
    "timesteps = 8\n",
    "num_classes = 10"
   ]
  },
  {
   "cell_type": "code",
   "execution_count": 4,
   "metadata": {},
   "outputs": [],
   "source": [
    "# 生成虚拟训练数据\n",
    "x_train = np.random.random((1000, timesteps, data_dim))\n",
    "y_train = np.random.random((1000, num_classes))\n",
    "\n",
    "# 生成虚拟验证数据\n",
    "x_val = np.random.random((100, timesteps, data_dim))\n",
    "y_val = np.random.random((100, num_classes))"
   ]
  },
  {
   "cell_type": "code",
   "execution_count": 5,
   "metadata": {},
   "outputs": [
    {
     "output_type": "stream",
     "name": "stdout",
     "text": [
      "Model: \"sequential\"\n_________________________________________________________________\nLayer (type)                 Output Shape              Param #   \n=================================================================\nlstm (LSTM)                  (None, 8, 32)             6272      \n_________________________________________________________________\nlstm_1 (LSTM)                (None, 8, 32)             8320      \n_________________________________________________________________\nlstm_2 (LSTM)                (None, 32)                8320      \n_________________________________________________________________\ndense (Dense)                (None, 10)                330       \n=================================================================\nTotal params: 23,242\nTrainable params: 23,242\nNon-trainable params: 0\n_________________________________________________________________\n"
     ]
    }
   ],
   "source": [
    "# 期望输入数据尺寸: (batch_size, timesteps, data_dim)\n",
    "model = Sequential()\n",
    "model.add(LSTM(32, return_sequences=True,\n",
    "               input_shape=(timesteps, data_dim)))  # 返回维度为 32 的向量序列\n",
    "model.add(LSTM(32, return_sequences=True))  # 返回维度为 32 的向量序列\n",
    "model.add(LSTM(32))  # 返回维度为 32 的单个向量\n",
    "model.add(Dense(10, activation='softmax'))\n",
    "\n",
    "model.compile(loss='categorical_crossentropy',\n",
    "              optimizer='rmsprop',\n",
    "              metrics=['accuracy'])\n",
    "model.summary()"
   ]
  },
  {
   "cell_type": "code",
   "execution_count": 6,
   "metadata": {},
   "outputs": [
    {
     "output_type": "stream",
     "name": "stdout",
     "text": [
      "Epoch 1/15\n",
      "16/16 [==============================] - 6s 112ms/step - loss: 11.5517 - accuracy: 0.1028 - val_loss: 12.3503 - val_accuracy: 0.1000\n",
      "Epoch 2/15\n",
      "16/16 [==============================] - 0s 17ms/step - loss: 12.2479 - accuracy: 0.0915 - val_loss: 12.5109 - val_accuracy: 0.1100\n",
      "Epoch 3/15\n",
      "16/16 [==============================] - 0s 17ms/step - loss: 12.4795 - accuracy: 0.0911 - val_loss: 12.5762 - val_accuracy: 0.1100\n",
      "Epoch 4/15\n",
      "16/16 [==============================] - 0s 18ms/step - loss: 12.6299 - accuracy: 0.0892 - val_loss: 12.5978 - val_accuracy: 0.1100\n",
      "Epoch 5/15\n",
      "16/16 [==============================] - 0s 19ms/step - loss: 12.5365 - accuracy: 0.1040 - val_loss: 12.6111 - val_accuracy: 0.1100\n",
      "Epoch 6/15\n",
      "16/16 [==============================] - 0s 18ms/step - loss: 12.5680 - accuracy: 0.0857 - val_loss: 12.6197 - val_accuracy: 0.1100\n",
      "Epoch 7/15\n",
      "16/16 [==============================] - 0s 19ms/step - loss: 12.6151 - accuracy: 0.0987 - val_loss: 12.5917 - val_accuracy: 0.1100\n",
      "Epoch 8/15\n",
      "16/16 [==============================] - 0s 18ms/step - loss: 12.6508 - accuracy: 0.0776 - val_loss: 12.5541 - val_accuracy: 0.1100\n",
      "Epoch 9/15\n",
      "16/16 [==============================] - 0s 18ms/step - loss: 12.4399 - accuracy: 0.0892 - val_loss: 12.5446 - val_accuracy: 0.1100\n",
      "Epoch 10/15\n",
      "16/16 [==============================] - 0s 19ms/step - loss: 12.4817 - accuracy: 0.0921 - val_loss: 12.5436 - val_accuracy: 0.1100\n",
      "Epoch 11/15\n",
      "16/16 [==============================] - 0s 19ms/step - loss: 12.3462 - accuracy: 0.0750 - val_loss: 12.5424 - val_accuracy: 0.1100\n",
      "Epoch 12/15\n",
      "16/16 [==============================] - 0s 18ms/step - loss: 12.4713 - accuracy: 0.0823 - val_loss: 12.5417 - val_accuracy: 0.1100\n",
      "Epoch 13/15\n",
      "16/16 [==============================] - 0s 17ms/step - loss: 12.4664 - accuracy: 0.0901 - val_loss: 12.5364 - val_accuracy: 0.1100\n",
      "Epoch 14/15\n",
      "16/16 [==============================] - 0s 18ms/step - loss: 12.6035 - accuracy: 0.0799 - val_loss: 12.5326 - val_accuracy: 0.1100\n",
      "Epoch 15/15\n",
      "16/16 [==============================] - 0s 18ms/step - loss: 12.5166 - accuracy: 0.0907 - val_loss: 12.5318 - val_accuracy: 0.1100\n"
     ]
    },
    {
     "output_type": "execute_result",
     "data": {
      "text/plain": [
       "<tensorflow.python.keras.callbacks.History at 0x220901f6bc8>"
      ]
     },
     "metadata": {},
     "execution_count": 6
    }
   ],
   "source": [
    "\n",
    "model.fit(x_train, y_train,\n",
    "          batch_size=64, epochs=15,\n",
    "          validation_data=(x_val, y_val))\n",
    "# score = model.evaluate(x_test, y_test, batch_size=16)"
   ]
  },
  {
   "cell_type": "code",
   "execution_count": null,
   "metadata": {},
   "outputs": [],
   "source": []
  }
 ],
 "metadata": {
  "kernelspec": {
   "name": "python3710jvsc74a57bd03d7bf024c8f74fcdcb7d8b2c040a700e98389bc6f8df6b56dcd839bd4a5925be",
   "display_name": "Python 3.7.10 64-bit (conda)"
  },
  "language_info": {
   "codemirror_mode": {
    "name": "ipython",
    "version": 3
   },
   "file_extension": ".py",
   "mimetype": "text/x-python",
   "name": "python",
   "nbconvert_exporter": "python",
   "pygments_lexer": "ipython3",
   "version": "3.7.10"
  }
 },
 "nbformat": 4,
 "nbformat_minor": 4
}