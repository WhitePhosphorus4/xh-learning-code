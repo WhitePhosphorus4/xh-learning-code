{
 "cells": [
  {
   "cell_type": "markdown",
   "metadata": {},
   "source": [
    "# class"
   ]
  },
  {
   "cell_type": "code",
   "execution_count": 1,
   "metadata": {},
   "outputs": [
    {
     "data": {
      "text/plain": [
       "'4.1.1 msw (phoenix) wxWidgets 3.1.5'"
      ]
     },
     "execution_count": 1,
     "metadata": {},
     "output_type": "execute_result"
    }
   ],
   "source": [
    "import wx\n",
    "wx.version()"
   ]
  },
  {
   "cell_type": "code",
   "execution_count": 2,
   "metadata": {},
   "outputs": [
    {
     "name": "stdout",
     "output_type": "stream",
     "text": [
      "<__main__.Test object at 0x0000029E7FBADD88>\n",
      "<class '__main__.Test'>\n"
     ]
    }
   ],
   "source": [
    "# python的每个类方法默认第一个参数self代表类的实例，类似this指针\n",
    "class Test:\n",
    "    def prt(self):\n",
    "        print(self)\n",
    "        print(self.__class__)\n",
    "\n",
    "t = Test();\n",
    "\n",
    "t.prt()"
   ]
  },
  {
   "cell_type": "code",
   "execution_count": 3,
   "metadata": {},
   "outputs": [
    {
     "name": "stdout",
     "output_type": "stream",
     "text": [
      "ken 说我在读 3 年级\n",
      "ken 说：我 10 岁\n",
      "people is delete\n",
      "student is delete\n"
     ]
    }
   ],
   "source": [
    "class people:\n",
    "    name = ''\n",
    "    age = 0\n",
    "    # 双下划线，表示私有成员\n",
    "    __weight = 0\n",
    "    def __init__(self,n,a,w):\n",
    "        self.name = n\n",
    "        self.age = a\n",
    "        self.__weight = w\n",
    "    def speak(self):\n",
    "        print(\"%s 说：我 %d 岁\"%(self.name,self.age))\n",
    "    def __del__(self):\n",
    "        print(\"people is delete\")\n",
    "\n",
    "class student(people):\n",
    "    grade = ''\n",
    "    def __init__(self,n,a,w,g):\n",
    "        people.__init__(self,n,a,w)\n",
    "        self.grade = g\n",
    "    # 重写父类方法\n",
    "    def speak(self):\n",
    "        print(\"%s 说我在读 %d 年级\"%(self.name,self.grade))\n",
    "    def __del__(self):\n",
    "        people.__del__(people)\n",
    "        print(\"student is delete\")\n",
    "\n",
    "s = student('ken',10,60,3)\n",
    "# 按创建的类类型调用\n",
    "s.speak()\n",
    "# super(类类型，类对象)，调用父类的同名方法\n",
    "super(student,s).speak()\n",
    "del s"
   ]
  },
  {
   "cell_type": "code",
   "execution_count": 4,
   "metadata": {},
   "outputs": [
    {
     "name": "stdout",
     "output_type": "stream",
     "text": [
      "Vector (7, 8)\n"
     ]
    }
   ],
   "source": [
    "# 运算符重载\n",
    "class Vector:\n",
    "    def __init__(self,a,b):\n",
    "        self.a = a\n",
    "        self.b = b\n",
    "    # 通过print打印对象时输出以固定格式输出对应的值\n",
    "    def __str__(self):\n",
    "        return 'Vector (%d, %d)' % (self.a, self.b)\n",
    "    # 使用加运算时返回一个创建的Vector对象\n",
    "    def __add__(self,other):\n",
    "        return Vector(self.a+other.a,self.b+other.b)\n",
    "\n",
    "v1 = Vector(2,10)\n",
    "v2 = Vector(5,-2)\n",
    "print (v1 + v2)"
   ]
  },
  {
   "cell_type": "code",
   "execution_count": null,
   "metadata": {},
   "outputs": [],
   "source": []
  },
  {
   "cell_type": "code",
   "execution_count": null,
   "metadata": {},
   "outputs": [],
   "source": []
  }
 ],
 "metadata": {
  "kernelspec": {
   "display_name": "Python [conda env:TEST] *",
   "language": "python",
   "name": "conda-env-TEST-py"
  },
  "language_info": {
   "codemirror_mode": {
    "name": "ipython",
    "version": 3
   },
   "file_extension": ".py",
   "mimetype": "text/x-python",
   "name": "python",
   "nbconvert_exporter": "python",
   "pygments_lexer": "ipython3",
   "version": "3.7.9"
  }
 },
 "nbformat": 4,
 "nbformat_minor": 2
}
