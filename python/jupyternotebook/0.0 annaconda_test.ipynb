{
 "cells": [
  {
   "cell_type": "markdown",
   "metadata": {},
   "source": [
    "# 运行以下代码，注意查看输出"
   ]
  },
  {
   "cell_type": "code",
   "execution_count": 1,
   "metadata": {},
   "outputs": [
    {
     "name": "stdout",
     "output_type": "stream",
     "text": [
      ">>>> Running...\n",
      "Cool !!!\n",
      "请查看图片，并将图片截图发送至群中。\n",
      "Show time...\n"
     ]
    }
   ],
   "source": [
    "import turtle\n",
    "import random\n",
    "from turtle import *\n",
    "from time import sleep\n",
    "\n",
    "# t = turtle.Turtle()\n",
    "# w = turtle.Screen()\n",
    "\n",
    "\n",
    "def tree(branchLen, t):\n",
    "    if branchLen > 3:\n",
    "        if 8 <= branchLen <= 12:\n",
    "            if random.randint(0, 2) == 0:\n",
    "                t.color('snow')\n",
    "            else:\n",
    "                t.color('lightcoral')\n",
    "            t.pensize(branchLen / 3)\n",
    "        elif branchLen < 8:\n",
    "            if random.randint(0, 1) == 0:\n",
    "                t.color('snow')\n",
    "            else:\n",
    "                t.color('lightcoral')\n",
    "            t.pensize(branchLen / 2)\n",
    "        else:\n",
    "            t.color('sienna')\n",
    "            t.pensize(branchLen / 10)\n",
    "\n",
    "        t.forward(branchLen)\n",
    "        a = 1.5 * random.random()\n",
    "        t.right(20*a)\n",
    "        b = 1.5 * random.random()\n",
    "        tree(branchLen-10*b, t)\n",
    "        t.left(40*a)\n",
    "        tree(branchLen-10*b, t)\n",
    "        t.right(20*a)\n",
    "        t.up()\n",
    "        t.backward(branchLen)\n",
    "        t.down()\n",
    "\n",
    "\n",
    "def petal(m, t):  # 树下花瓣\n",
    "    for i in range(m):\n",
    "        a = 200 - 400 * random.random()\n",
    "        b = 10 - 20 * random.random()\n",
    "        t.up()\n",
    "        t.forward(b)\n",
    "        t.left(90)\n",
    "        t.forward(a)\n",
    "        t.down()\n",
    "        t.color(\"lightcoral\")\n",
    "        t.circle(1)\n",
    "        t.up()\n",
    "        t.backward(a)\n",
    "        t.right(90)\n",
    "        t.backward(b)\n",
    "\n",
    "\n",
    "def bea_tree():\n",
    "    print('>>>> Running...')\n",
    "    t = turtle.Turtle()\n",
    "    w = turtle.Screen()\n",
    "    \n",
    "    \n",
    "    t = turtle.Turtle()\n",
    "    myWin = turtle.Screen()\n",
    "    getscreen().tracer(5, 0)\n",
    "    turtle.screensize(bg='wheat')\n",
    "    t.left(90)\n",
    "    t.up()\n",
    "    t.backward(150)\n",
    "    t.down()\n",
    "    t.color('sienna')\n",
    "    tree(60, t)\n",
    "    petal(100, t)\n",
    "\n",
    "    myWin.exitonclick()\n",
    "    print('Cool !!!\\n请查看图片，并将图片截图发送至群中。\\nShow time...')\n",
    "\n",
    "\n",
    "bea_tree()"
   ]
  },
  {
   "cell_type": "code",
   "execution_count": null,
   "metadata": {},
   "outputs": [],
   "source": [
    "\"\"\"\n",
    "成功运行后，会在另一个界面中输出结果，注意查看。\n",
    "你可以多次运行直到输出你满意的结果。\n",
    "如果多次运行报错没关系，只需关闭重新运行即可。\n",
    "\"\"\""
   ]
  },
  {
   "cell_type": "code",
   "execution_count": null,
   "metadata": {},
   "outputs": [],
   "source": []
  }
 ],
 "metadata": {
  "kernelspec": {
   "display_name": "Python 3",
   "language": "python",
   "name": "python3"
  },
  "language_info": {
   "codemirror_mode": {
    "name": "ipython",
    "version": 3
   },
   "file_extension": ".py",
   "mimetype": "text/x-python",
   "name": "python",
   "nbconvert_exporter": "python",
   "pygments_lexer": "ipython3",
   "version": "3.6.8"
  }
 },
 "nbformat": 4,
 "nbformat_minor": 2
}
