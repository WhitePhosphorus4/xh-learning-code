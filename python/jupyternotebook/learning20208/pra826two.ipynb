{
 "cells": [
  {
   "cell_type": "code",
   "execution_count": 10,
   "metadata": {},
   "outputs": [
    {
     "name": "stdout",
     "output_type": "stream",
     "text": [
      "<class 'numpy.ndarray'>\n",
      "[-6.         -5.75510204 -5.51020408 -5.26530612 -5.02040816 -4.7755102\n",
      " -4.53061224 -4.28571429 -4.04081633 -3.79591837 -3.55102041 -3.30612245\n",
      " -3.06122449 -2.81632653 -2.57142857 -2.32653061 -2.08163265 -1.83673469\n",
      " -1.59183673 -1.34693878 -1.10204082 -0.85714286 -0.6122449  -0.36734694\n",
      " -0.12244898  0.12244898  0.36734694  0.6122449   0.85714286  1.10204082\n",
      "  1.34693878  1.59183673  1.83673469  2.08163265  2.32653061  2.57142857\n",
      "  2.81632653  3.06122449  3.30612245  3.55102041  3.79591837  4.04081633\n",
      "  4.28571429  4.53061224  4.7755102   5.02040816  5.26530612  5.51020408\n",
      "  5.75510204  6.        ]\n"
     ]
    },
    {
     "data": {
      "image/png": "[encoded data removed]",
      "text/plain": [
       "<Figure size 432x288 with 1 Axes>"
      ]
     },
     "metadata": {
      "needs_background": "light"
     },
     "output_type": "display_data"
    }
   ],
   "source": [
    "import matplotlib.pyplot as plt\n",
    "import numpy as np\n",
    "\n",
    "# linspace()获取-6到6的等差数列，默认有50个数\n",
    "x = np.linspace(-6,6)\n",
    "print(type(x))\n",
    "print(x)\n",
    "# Sigmoid函数计算公式\n",
    "y = 1.0/(1.0+np.exp(-x))\n",
    "\n",
    "plt.plot(x,y)\n",
    "plt.show()"
   ]
  },
  {
   "cell_type": "code",
   "execution_count": 9,
   "metadata": {},
   "outputs": [
    {
     "data": {
      "text/plain": [
       "2.718281828459045"
      ]
     },
     "execution_count": 9,
     "metadata": {},
     "output_type": "execute_result"
    }
   ],
   "source": [
    "# np.exp()函数\n",
    "x = -1\n",
    "np.exp(-x)"
   ]
  },
  {
   "cell_type": "code",
   "execution_count": null,
   "metadata": {},
   "outputs": [],
   "source": []
  },
  {
   "cell_type": "code",
   "execution_count": null,
   "metadata": {},
   "outputs": [],
   "source": []
  }
 ],
 "metadata": {
  "kernelspec": {
   "display_name": "Python 3",
   "language": "python",
   "name": "python3"
  },
  "language_info": {
   "codemirror_mode": {
    "name": "ipython",
    "version": 3
   },
   "file_extension": ".py",
   "mimetype": "text/x-python",
   "name": "python",
   "nbconvert_exporter": "python",
   "pygments_lexer": "ipython3",
   "version": "3.6.8"
  }
 },
 "nbformat": 4,
 "nbformat_minor": 2
}
